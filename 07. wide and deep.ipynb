{
 "cells": [
  {
   "cell_type": "code",
   "execution_count": 1,
   "metadata": {
    "collapsed": true
   },
   "outputs": [],
   "source": [
    "import torch\n",
    "from torch.autograd import Variable\n",
    "import numpy as np"
   ]
  },
  {
   "cell_type": "code",
   "execution_count": 5,
   "metadata": {},
   "outputs": [],
   "source": [
    "xy = np.loadtxt('./data/diabetes.csv.gz',delimiter=',',dtype=np.float32)"
   ]
  },
  {
   "cell_type": "code",
   "execution_count": 7,
   "metadata": {},
   "outputs": [
    {
     "name": "stdout",
     "output_type": "stream",
     "text": [
      "torch.Size([759, 8])\n",
      "torch.Size([759, 1])\n"
     ]
    }
   ],
   "source": [
    "x_data = Variable(torch.from_numpy(xy[:,0:-1]))\n",
    "y_data = Variable(torch.from_numpy(xy[:,[-1]]))\n",
    "\n",
    "print(x_data.data.shape)\n",
    "print(y_data.data.shape)"
   ]
  },
  {
   "cell_type": "code",
   "execution_count": 8,
   "metadata": {
    "collapsed": true
   },
   "outputs": [],
   "source": [
    "class Model(torch.nn.Module):\n",
    "    def __init__(self):\n",
    "        super(Model, self).__init__()\n",
    "        self.l1 = torch.nn.Linear(8,6)\n",
    "        self.l2 = torch.nn.Linear(6,4)\n",
    "        self.l3 = torch.nn.Linear(4,1)\n",
    "        \n",
    "        self.sigmoid = torch.nn.Sigmoid()\n",
    "        \n",
    "    def forward(self,x):\n",
    "        out1 = self.sigmoid(self.l1(x))\n",
    "        out2 = self.sigmoid(self.l2(out1))\n",
    "        y_pred = self.sigmoid(self.l3(out2))\n",
    "        return(y_pred)"
   ]
  },
  {
   "cell_type": "code",
   "execution_count": 9,
   "metadata": {
    "collapsed": true
   },
   "outputs": [],
   "source": [
    "model = Model()"
   ]
  },
  {
   "cell_type": "code",
   "execution_count": 14,
   "metadata": {
    "collapsed": true
   },
   "outputs": [],
   "source": [
    "criterion = torch.nn.BCELoss(size_average=True)\n",
    "optimizer = torch.optim.SGD(model.parameters(), lr = 0.5)"
   ]
  },
  {
   "cell_type": "code",
   "execution_count": 15,
   "metadata": {},
   "outputs": [
    {
     "name": "stdout",
     "output_type": "stream",
     "text": [
      "0 0.6450198292732239\n",
      "1 0.6450155377388\n",
      "2 0.6450103521347046\n",
      "3 0.6450058817863464\n",
      "4 0.6450015306472778\n",
      "5 0.6449968814849854\n",
      "6 0.6449918746948242\n",
      "7 0.6449874639511108\n",
      "8 0.6449828743934631\n",
      "9 0.6449785828590393\n",
      "10 0.644973635673523\n",
      "11 0.6449685096740723\n",
      "12 0.6449637413024902\n",
      "13 0.6449592113494873\n",
      "14 0.64495450258255\n",
      "15 0.6449496746063232\n",
      "16 0.6449453234672546\n",
      "17 0.6449400186538696\n",
      "18 0.644935667514801\n",
      "19 0.6449307799339294\n",
      "20 0.6449260711669922\n",
      "21 0.6449204683303833\n",
      "22 0.644916296005249\n",
      "23 0.6449114680290222\n",
      "24 0.6449064016342163\n",
      "25 0.6449016332626343\n",
      "26 0.6448970437049866\n",
      "27 0.6448918581008911\n",
      "28 0.6448869109153748\n",
      "29 0.644882321357727\n",
      "30 0.6448769569396973\n",
      "31 0.6448721885681152\n",
      "32 0.6448670029640198\n",
      "33 0.6448620557785034\n",
      "34 0.6448565125465393\n",
      "35 0.6448518633842468\n",
      "36 0.6448470950126648\n",
      "37 0.6448420286178589\n",
      "38 0.6448370218276978\n",
      "39 0.6448321342468262\n",
      "40 0.6448264122009277\n",
      "41 0.6448214054107666\n",
      "42 0.644816517829895\n",
      "43 0.6448114514350891\n",
      "44 0.6448061466217041\n",
      "45 0.6448014974594116\n",
      "46 0.6447957754135132\n",
      "47 0.6447902917861938\n",
      "48 0.644785463809967\n",
      "49 0.6447802782058716\n",
      "50 0.6447747349739075\n",
      "51 0.644769012928009\n",
      "52 0.6447641849517822\n",
      "53 0.6447586417198181\n",
      "54 0.6447535753250122\n",
      "55 0.6447480320930481\n",
      "56 0.6447429656982422\n",
      "57 0.6447374820709229\n",
      "58 0.644731879234314\n",
      "59 0.6447266936302185\n",
      "60 0.6447212100028992\n",
      "61 0.6447159051895142\n",
      "62 0.6447101831436157\n",
      "63 0.6447047591209412\n",
      "64 0.6446989178657532\n",
      "65 0.6446936726570129\n",
      "66 0.6446872353553772\n",
      "67 0.6446825265884399\n",
      "68 0.6446763277053833\n",
      "69 0.6446709036827087\n",
      "70 0.644665002822876\n",
      "71 0.6446597576141357\n",
      "72 0.6446535587310791\n",
      "73 0.644648015499115\n",
      "74 0.6446424126625061\n",
      "75 0.6446371078491211\n",
      "76 0.6446306705474854\n",
      "77 0.644624650478363\n",
      "78 0.6446187496185303\n",
      "79 0.6446132659912109\n",
      "80 0.6446072459220886\n",
      "81 0.6446009874343872\n",
      "82 0.6445955038070679\n",
      "83 0.6445894837379456\n",
      "84 0.6445834636688232\n",
      "85 0.6445772051811218\n",
      "86 0.6445710062980652\n",
      "87 0.6445648074150085\n",
      "88 0.6445592045783997\n",
      "89 0.6445526480674744\n",
      "90 0.6445462703704834\n",
      "91 0.6445403099060059\n",
      "92 0.6445339918136597\n",
      "93 0.6445284485816956\n",
      "94 0.6445214152336121\n",
      "95 0.6445153951644897\n",
      "96 0.6445087194442749\n",
      "97 0.6445023417472839\n",
      "98 0.6444960832595825\n",
      "99 0.6444894075393677\n"
     ]
    }
   ],
   "source": [
    "for epoch in range(100):\n",
    "    y_pred = model(x_data)\n",
    "    loss = criterion(y_pred, y_data)\n",
    "    print(epoch, loss.data[0])\n",
    "    \n",
    "    optimizer.zero_grad()\n",
    "    loss.backward()\n",
    "    optimizer.step()"
   ]
  },
  {
   "cell_type": "code",
   "execution_count": null,
   "metadata": {
    "collapsed": true
   },
   "outputs": [],
   "source": []
  }
 ],
 "metadata": {
  "kernelspec": {
   "display_name": "Python 3",
   "language": "python",
   "name": "python3"
  },
  "language_info": {
   "codemirror_mode": {
    "name": "ipython",
    "version": 3
   },
   "file_extension": ".py",
   "mimetype": "text/x-python",
   "name": "python",
   "nbconvert_exporter": "python",
   "pygments_lexer": "ipython3",
   "version": "3.6.3"
  }
 },
 "nbformat": 4,
 "nbformat_minor": 2
}
