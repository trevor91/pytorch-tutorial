{
 "cells": [
  {
   "cell_type": "code",
   "execution_count": 1,
   "metadata": {
    "collapsed": true
   },
   "outputs": [],
   "source": [
    "import torch\n",
    "import numpy as np\n",
    "from torch.autograd import Variable\n",
    "from torch.utils.data import Dataset, DataLoader"
   ]
  },
  {
   "cell_type": "code",
   "execution_count": 2,
   "metadata": {},
   "outputs": [],
   "source": [
    "class DiabetesDataset(Dataset):\n",
    "    def __init__(self):\n",
    "        xy = np.loadtxt('./data/diabetes.csv.gz',delimiter = ',', dtype = np.float32)\n",
    "        self.len = xy.shape[0]\n",
    "        self.x_data = torch.from_numpy(xy[:,0:-1])\n",
    "        self.y_data = torch.from_numpy(xy[:,[-1]])\n",
    "    def __getitem__(self, index):\n",
    "        return(self.x_data[index], self.y_data[index])\n",
    "    def __len__(self):\n",
    "        return(self.len)"
   ]
  },
  {
   "cell_type": "code",
   "execution_count": 3,
   "metadata": {
    "collapsed": true
   },
   "outputs": [],
   "source": [
    "dataset = DiabetesDataset()"
   ]
  },
  {
   "cell_type": "code",
   "execution_count": 4,
   "metadata": {
    "collapsed": true
   },
   "outputs": [],
   "source": [
    "train_loader = DataLoader(dataset = dataset,\n",
    "                         batch_size = 32,\n",
    "                         shuffle = True,\n",
    "                         num_workers = 2)"
   ]
  },
  {
   "cell_type": "code",
   "execution_count": 5,
   "metadata": {
    "collapsed": true
   },
   "outputs": [],
   "source": [
    "class Model(torch.nn.Module):\n",
    "    def __init__(self):\n",
    "        super(Model, self).__init__()\n",
    "        self.l1 = torch.nn.Linear(8,6)\n",
    "        self.l2 = torch.nn.Linear(6,4)\n",
    "        self.l3 = torch.nn.Linear(4,1)\n",
    "        self.sigmoid = torch.nn.Sigmoid()\n",
    "        \n",
    "    def forward(self,x):\n",
    "        out1 = self.sigmoid(self.l1(x))\n",
    "        out2 = self.sigmoid(self.l2(out1))\n",
    "        y_pred = self.sigmoid(self.l3(out2))\n",
    "        return(y_pred)"
   ]
  },
  {
   "cell_type": "code",
   "execution_count": 6,
   "metadata": {
    "collapsed": true
   },
   "outputs": [],
   "source": [
    "model = Model()"
   ]
  },
  {
   "cell_type": "code",
   "execution_count": 8,
   "metadata": {
    "collapsed": true
   },
   "outputs": [],
   "source": [
    "criterion = torch.nn.BCELoss(size_average = True)\n",
    "optimizer = torch.optim.SGD(model.parameters(), lr = 0.1)"
   ]
  },
  {
   "cell_type": "code",
   "execution_count": 9,
   "metadata": {},
   "outputs": [
    {
     "name": "stdout",
     "output_type": "stream",
     "text": [
      "0 0 0.6744022965431213\n",
      "0 1 0.6996780633926392\n",
      "0 2 0.6860825419425964\n",
      "0 3 0.6799188852310181\n",
      "0 4 0.6339446306228638\n",
      "0 5 0.610654890537262\n",
      "0 6 0.6456980109214783\n",
      "0 7 0.6984728574752808\n",
      "0 8 0.581710159778595\n",
      "0 9 0.6765702962875366\n",
      "0 10 0.6761192083358765\n",
      "0 11 0.5886208415031433\n",
      "0 12 0.6909722089767456\n",
      "0 13 0.6760578155517578\n",
      "0 14 0.6493859887123108\n",
      "0 15 0.6077983379364014\n",
      "0 16 0.6628785133361816\n",
      "0 17 0.6775425672531128\n",
      "0 18 0.6030136346817017\n",
      "0 19 0.7408021688461304\n",
      "0 20 0.6331693530082703\n",
      "0 21 0.6317145228385925\n",
      "0 22 0.6786463856697083\n",
      "0 23 0.6267491579055786\n",
      "1 0 0.61493319272995\n",
      "1 1 0.662573516368866\n",
      "1 2 0.6293649673461914\n",
      "1 3 0.6627725958824158\n",
      "1 4 0.5786407589912415\n",
      "1 5 0.7168437242507935\n",
      "1 6 0.5938771367073059\n",
      "1 7 0.6447048187255859\n",
      "1 8 0.5901463627815247\n",
      "1 9 0.6818049550056458\n",
      "1 10 0.6446185111999512\n",
      "1 11 0.6259517669677734\n",
      "1 12 0.6824464201927185\n",
      "1 13 0.7371207475662231\n",
      "1 14 0.6450871229171753\n",
      "1 15 0.6097289323806763\n",
      "1 16 0.6443535089492798\n",
      "1 17 0.6626520156860352\n",
      "1 18 0.6077454686164856\n",
      "1 19 0.6821038126945496\n",
      "1 20 0.6261327266693115\n",
      "1 21 0.6258233189582825\n",
      "1 22 0.7582849860191345\n",
      "1 23 0.5972496271133423\n"
     ]
    }
   ],
   "source": [
    "for epoch in range(2):\n",
    "    for i, data in enumerate(train_loader,0):\n",
    "        inputs, labels = data\n",
    "        \n",
    "        inputs, labels = Variable(inputs), Variable(labels)\n",
    "        \n",
    "        y_pred = model(inputs)\n",
    "        \n",
    "        loss = criterion(y_pred, labels)\n",
    "        \n",
    "        print(epoch, i, loss.data[0])\n",
    "        \n",
    "        optimizer.zero_grad()\n",
    "        loss.backward()\n",
    "        optimizer.step()"
   ]
  },
  {
   "cell_type": "code",
   "execution_count": null,
   "metadata": {
    "collapsed": true
   },
   "outputs": [],
   "source": []
  }
 ],
 "metadata": {
  "kernelspec": {
   "display_name": "Python 3",
   "language": "python",
   "name": "python3"
  },
  "language_info": {
   "codemirror_mode": {
    "name": "ipython",
    "version": 3
   },
   "file_extension": ".py",
   "mimetype": "text/x-python",
   "name": "python",
   "nbconvert_exporter": "python",
   "pygments_lexer": "ipython3",
   "version": "3.6.3"
  }
 },
 "nbformat": 4,
 "nbformat_minor": 2
}
